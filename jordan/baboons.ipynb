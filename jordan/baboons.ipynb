{
 "metadata": {
  "language_info": {
   "codemirror_mode": {
    "name": "ipython",
    "version": 3
   },
   "file_extension": ".py",
   "mimetype": "text/x-python",
   "name": "python",
   "nbconvert_exporter": "python",
   "pygments_lexer": "ipython3",
   "version": "3.9.5"
  },
  "orig_nbformat": 4,
  "kernelspec": {
   "name": "python3",
   "display_name": "Python 3.9.5 64-bit"
  },
  "interpreter": {
   "hash": "37fecfc2a9593f695bce63190ddf5c905652d33afc889827ba3c9227ea11cda9"
  }
 },
 "nbformat": 4,
 "nbformat_minor": 2,
 "cells": [
  {
   "cell_type": "code",
   "execution_count": 11,
   "metadata": {},
   "outputs": [],
   "source": [
    "import pandas as pd\n",
    "df = pd.read_csv(\"F:\\\\repos\\multi_linear_research\\jackson\\Docs&Code\\L-TVAR\\data\\RFID_data.txt\", delimiter=\"\\t\")"
   ]
  },
  {
   "cell_type": "code",
   "execution_count": 18,
   "metadata": {},
   "outputs": [
    {
     "output_type": "stream",
     "name": "stdout",
     "text": [
      "0        13/06/2019 05:28\n1        13/06/2019 05:28\n2        13/06/2019 05:28\n3        13/06/2019 05:29\n4        13/06/2019 05:29\n               ...       \n63090    10/07/2019 21:53\n63091    10/07/2019 21:54\n63092    10/07/2019 21:54\n63093    10/07/2019 21:55\n63094    10/07/2019 21:55\nName: DateTime, Length: 63095, dtype: object\n"
     ]
    }
   ],
   "source": [
    "print(df[\"DateTime\"])"
   ]
  },
  {
   "cell_type": "code",
   "execution_count": 19,
   "metadata": {},
   "outputs": [],
   "source": [
    "tensor_shape = (43000, 13, 13)"
   ]
  }
 ]
}